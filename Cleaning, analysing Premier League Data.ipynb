{
 "cells": [
  {
   "cell_type": "code",
   "execution_count": 107,
   "metadata": {},
   "outputs": [],
   "source": [
    "##Import different libraries and initialize the different files\n",
    "\n",
    "import json\n",
    "import pandas as pd\n",
    "import matplotlib.pyplot as plt\n",
    "import pylab\n",
    "\n",
    "\n",
    "with open('teams.json') as json_data:\n",
    "    data_dict1 = json.load(json_data,encoding = \"ISO-8859-1\")\n",
    "df1 = pd.DataFrame.from_dict(data_dict1, orient='columns')\n",
    "df1 = df1.rename(columns={'wyId': 'winner'})\n",
    "with open('matches_England.json') as json_data:\n",
    "    data_dict = json.load(json_data)\n",
    "df = pd.DataFrame.from_dict(data_dict, orient='columns')"
   ]
  },
  {
   "cell_type": "markdown",
   "metadata": {},
   "source": [
    "# Question 1 Who wants to be a Champion?\n",
    "    \n",
    "    "
   ]
  },
  {
   "cell_type": "code",
   "execution_count": 108,
   "metadata": {},
   "outputs": [],
   "source": [
    "# First we start by making the 'Matches' dataframe clearer. \n",
    "# We split the column 'label' and we create differents columns with : the name of the team that won, the name o the team that lost, a column with 'yes' if the result was Draw, the name of the team that play home and the name of the team that play away. \n",
    "# we finally concatenate all these columns together, with the initial 'Matches' dataframe\n",
    "\n",
    "df2 = df.label \n",
    "liste= []\n",
    "for row in df2:\n",
    "    a = row.replace('-',',')\n",
    "    a = a.split(',')\n",
    "    liste.append(a)\n",
    "gagnant = []\n",
    "perdant = []\n",
    "draw = []\n",
    "equipeA= []\n",
    "equipeB= []\n",
    "for k in liste:\n",
    "    equipeA.append(k[0].strip())\n",
    "    equipeB.append(k[1].strip())\n",
    "    a = int(k[2])\n",
    "    b = int(k[3])\n",
    "    if a > b :\n",
    "        gagnant.append(k[0].strip())\n",
    "        perdant.append(k[1].strip())\n",
    "        draw.append(\"NON\")\n",
    "    elif a < b :\n",
    "        gagnant.append(k[1].strip())\n",
    "        perdant.append(k[0].strip())\n",
    "        draw.append(\"NON\")\n",
    "    else : \n",
    "        gagnant.append(\"NON\")\n",
    "        perdant.append(\"NON\")\n",
    "        draw.append(\"YES\")\n",
    "        \n",
    "dfgagnant = pd.DataFrame(gagnant, columns = ['gagnant'])\n",
    "dfperdant = pd.DataFrame(perdant, columns = ['perdant'])\n",
    "dfeA = pd.DataFrame(equipeA, columns = ['EquipeA'])\n",
    "dfeB = pd.DataFrame(equipeB, columns = ['EquipeB'])\n",
    "dfnul = pd.DataFrame(draw, columns = ['Draw'])\n",
    "dfResult = pd.concat([df,dfgagnant, dfperdant, dfnul,dfeA,dfeB], axis = 1)\n"
   ]
  },
  {
   "cell_type": "code",
   "execution_count": 109,
   "metadata": {},
   "outputs": [],
   "source": [
    "dfResult =dfResult.drop(columns= ['date','competitionId', 'referees', 'roundId', 'seasonId', 'teamsData','venue', 'winner', 'wyId']) "
   ]
  },
  {
   "cell_type": "code",
   "execution_count": 110,
   "metadata": {},
   "outputs": [],
   "source": [
    "# Here we work with the 'teams' file. We look for the country of each team and we write it in a new column that we concatenate with the initial dataframe. \n",
    "# Then we select only the teams that have \"England\" or \"Wales\" in the \"country\" new column.\n",
    "\n",
    "with open('teams.json') as json_data:\n",
    "    team = json.load(json_data)\n",
    "dfteam = pd.DataFrame(team)\n",
    "country = []\n",
    "import numpy as np\n",
    "for row in dfteam.area:\n",
    "    for clef,values in row.items():\n",
    "        if clef == \"name\":\n",
    "            country.append(values)\n",
    "dfcountry = pd.DataFrame(country, columns = [\"country\"])\n",
    "dfteam = pd.concat([dfteam, dfcountry], axis=1 )\n",
    "dfenglishteam = dfteam.loc[(dfteam['country'] == 'England') | (dfteam['country'] == 'Wales') ]"
   ]
  },
  {
   "cell_type": "code",
   "execution_count": 111,
   "metadata": {},
   "outputs": [],
   "source": [
    "\n",
    "# here is a function that find the number of sucessive occurence of 'nbtofind' in a list 'lst'\n",
    "def findOcc(lst, nbtofind):\n",
    "\n",
    "    \n",
    "    maxi = 0\n",
    "    for k in range(len(lst)) : \n",
    "        i = 1\n",
    "        if lst[k] == nbtofind:\n",
    "      \n",
    "            while (k+i < len(lst)) and (lst[k+i] == nbtofind):\n",
    "                    i = i+1\n",
    "                \n",
    "            if i > maxi:\n",
    "                maxi = i\n",
    "    return(maxi)\n",
    "\n"
   ]
  },
  {
   "cell_type": "code",
   "execution_count": 112,
   "metadata": {},
   "outputs": [],
   "source": [
    "# we  iterrate over the english team. for each team we create a list with the points after each game week, and a list with the sum of points after each game week\n",
    "\n",
    "ranking = []\n",
    "for name in dfenglishteam.head(20).name:\n",
    "    df = dfResult.loc[(dfResult['EquipeA'] == name) | (dfResult['EquipeB'] == name)] # Here we find all the game of the team 'name'\n",
    "    df = df.sort_values(by = 'gameweek') \n",
    "    point = []\n",
    "    point2 = []\n",
    "    i = 0\n",
    "    for index,row in df.iterrows():\n",
    "        if row['Draw'] == \"NON\":\n",
    "            if (row['gagnant'] == name):\n",
    "                if i == 0:\n",
    "                    point.append(3)\n",
    "                    point2.append(3)\n",
    "                elif i !=0:\n",
    "                    point.append(3+point[i-1])\n",
    "                    point2.append(3)\n",
    "                i = i+1\n",
    "            elif (row['perdant'] == name):  \n",
    "                if i == 0:\n",
    "                    point.append(0)\n",
    "                    point2.append(0)\n",
    "                elif i !=0:\n",
    "                    point.append(0+point[i-1])\n",
    "                    point2.append(0)\n",
    "                i = i+1\n",
    "        else:\n",
    "            if i == 0:\n",
    "                    point.append(1)\n",
    "                    point2.append(1)\n",
    "            if i !=0:\n",
    "                    point.append(1+point[i-1])\n",
    "                    point2.append(1)\n",
    "            i = i+1\n",
    "    ranking.append((name, point[-1],findOcc(point2,3),findOcc(point2,0) )) # we fill this list that contain tuples with: the name of the team, its final point number, number of sucessive wins, number of sucessive loses games"
   ]
  },
  {
   "cell_type": "code",
   "execution_count": 113,
   "metadata": {},
   "outputs": [],
   "source": [
    "# we create different ranking list. ranking1 ranks by number of points, ranking2 ranks by number of sucessive won games and ranking3 ranks by number of sucessive lost games\n",
    "\n",
    "ranking1 = sorted(ranking, key=lambda tup: tup[1], reverse = True)\n",
    "ranking2 = sorted(ranking, key=lambda tup: tup[2], reverse = True)\n",
    "ranking2 = ranking2[0:2]\n",
    "ranking4 = sorted(ranking, key=lambda tup: tup[3], reverse = True)[0:2]\n",
    "ranking3 = []\n",
    "ranking5 = []\n",
    "for x in ranking2: \n",
    "    ranking3.append(x[0])\n",
    "for x in ranking4: \n",
    "    ranking5.append(x[0])\n"
   ]
  },
  {
   "cell_type": "code",
   "execution_count": 114,
   "metadata": {},
   "outputs": [
    {
     "data": {
      "image/png": "[encoded data removed]",
      "text/plain": [
       "<Figure size 1080x720 with 1 Axes>"
      ]
     },
     "metadata": {
      "needs_background": "light"
     },
     "output_type": "display_data"
    }
   ],
   "source": [
    "# for each team in the ranking list, we calculte the running sum of points and we plot it.\n",
    "import pylab\n",
    "\n",
    "for row in ranking1:\n",
    "    name = row[0]\n",
    "    df = dfResult.loc[(dfResult['EquipeA'] == name) | (dfResult['EquipeB'] == name)]\n",
    "    df = df.sort_values(by = 'gameweek')\n",
    "    point = []\n",
    "    i = 0\n",
    "    for index,row in df.iterrows():\n",
    "        if row['Draw'] == \"NON\":\n",
    "            if (row['gagnant'] == name):\n",
    "                if i == 0:\n",
    "                    point.append(3)\n",
    "                    \n",
    "                elif i !=0:\n",
    "                    point.append(3+point[i-1])\n",
    "                    \n",
    "                i = i+1\n",
    "            elif (row['perdant'] == name):  \n",
    "                if i == 0:\n",
    "                    point.append(0)\n",
    "                    \n",
    "                elif i !=0:\n",
    "                    point.append(0+point[i-1])\n",
    "                    \n",
    "                i = i+1\n",
    "        else:\n",
    "            if i == 0:\n",
    "                    point.append(1)\n",
    "                    \n",
    "            if i !=0:\n",
    "                    point.append(1+point[i-1])\n",
    "                    \n",
    "            i = i+1\n",
    "    fig = plt.figure(1, figsize=(15, 10)) \n",
    "    if name in ranking3: # for teams that are top2 in the ranking list of successive won, we plot it differently that others\n",
    "        pylab.plot(point, linewidth = 5,label = name)\n",
    "    elif name in ranking5: # for teams that are top2 in the ranking list of successive lost, we plot it differently that others\n",
    "\n",
    "        pylab.plot(point, linewidth = 5,label = name)\n",
    "    else:\n",
    "        pylab.plot(point, linewidth = 1,label = name)\n",
    "        \n",
    "    pylab.legend(loc='upper right', bbox_to_anchor=(1.2, 1.0))\n",
    "     \n",
    "        "
   ]
  },
  {
   "cell_type": "markdown",
   "metadata": {},
   "source": [
    "# Question 2 : Chi Square test "
   ]
  },
  {
   "cell_type": "code",
   "execution_count": 115,
   "metadata": {},
   "outputs": [],
   "source": [
    "listeEquipe= ['Arsenal', \"Everton\", \"Manchester United\", \"Chelsea\", \"Liverpool\"]"
   ]
  },
  {
   "cell_type": "code",
   "execution_count": 116,
   "metadata": {},
   "outputs": [
    {
     "name": "stdout",
     "output_type": "stream",
     "text": [
      "Arsenal\n",
      "Resultat  Defeat  Draw  Victory\n",
      "side                           \n",
      "Away          11     4        4\n",
      "Home           2     2       15\n",
      " \n",
      "Everton\n",
      "Resultat  Defeat  Draw  Victory\n",
      "side                           \n",
      "Away          10     6        3\n",
      "Home           5     4       10\n",
      " \n",
      "Manchester United\n",
      "Resultat  Defeat  Draw  Victory\n",
      "side                           \n",
      "Away           5     4       10\n",
      "Home           2     2       15\n",
      " \n",
      "Chelsea\n",
      "Resultat  Defeat  Draw  Victory\n",
      "side                           \n",
      "Away           6     3       10\n",
      "Home           4     4       11\n",
      " \n",
      "Liverpool\n",
      "Resultat  Defeat  Draw  Victory\n",
      "side                           \n",
      "Away           5     5        9\n",
      "Home           0     7       12\n",
      " \n"
     ]
    },
    {
     "data": {
      "text/plain": [
       "[(13.265856950067477, 0.001316302676697684, 2),\n",
       " (5.8358974358974365, 0.05404443405265433, 2),\n",
       " (2.9523809523809526, 0.22850653346991975, 2),\n",
       " (0.5904761904761906, 0.7443543391421505, 2),\n",
       " (5.761904761904763, 0.05608132660510642, 2)]"
      ]
     },
     "execution_count": 116,
     "metadata": {},
     "output_type": "execute_result"
    }
   ],
   "source": [
    "# we iterrate over the list above\n",
    "from scipy import stats\n",
    "listechi = []\n",
    "for equipe in listeEquipe:\n",
    "    df = dfResult.loc[(dfResult['EquipeA'] == equipe ) | (dfResult['EquipeB'] == equipe)] # we find all the games of the team\n",
    "    Resultat = [] # we create a list that we will  fill with the result of the team\n",
    "    side = [] # we create a list that we will fill with the side of each game, relative to the team \n",
    "    for index,row in df.iterrows():\n",
    "        if row.Draw == 'NON':\n",
    "            if row.gagnant == equipe:\n",
    "                Resultat.append(\"Victory\")\n",
    "            else:\n",
    "                Resultat.append(\"Defeat\")\n",
    "        else: \n",
    "            Resultat.append(\"Draw\")\n",
    "        if row.EquipeA == equipe:\n",
    "            side.append(\"Home\")\n",
    "        else:\n",
    "            side.append(\"Away\")\n",
    "    dfresultat = pd.DataFrame(Resultat, columns = [\"Resultat\"])\n",
    "    dfside = pd.DataFrame(side, columns = [\"side\"])\n",
    "    dfquest2 = pd.concat([dfresultat, dfside], axis = 1)\n",
    "    tab = pd.crosstab(dfquest2['side'],dfquest2['Resultat']) # we create the contingency table\n",
    "    print(equipe)\n",
    "    print(tab)\n",
    "    print(\" \")\n",
    "    f_obs = np.array([tab.iloc[0][0:3].values,\n",
    "                  tab.iloc[1][0:3].values]) # we prepare the chi square test\n",
    "    \n",
    "\n",
    "\n",
    "    listechi.append(stats.chi2_contingency(f_obs)[0:3]) #we do the chi square test\n",
    "\n",
    "listechi\n",
    "    \n",
    "  "
   ]
  },
  {
   "cell_type": "markdown",
   "metadata": {},
   "source": [
    "#We can say that the correlation between the side and the result depends of the team. For example, for Arsenal, the p-value < 0.05 so we can reject the hypothesis of independance, that means that the results of Arsenal depends on the side. \n",
    "#For Chelsea, the p-value > 0.05, so we cannot reject the hypothesis of independance. Chelsea results don't depend on the side."
   ]
  },
  {
   "cell_type": "markdown",
   "metadata": {},
   "source": [
    "# Question 3 : Which teams have the youngest coaches?"
   ]
  },
  {
   "cell_type": "code",
   "execution_count": 117,
   "metadata": {},
   "outputs": [],
   "source": [
    "with open('matches_England.json') as json_data:\n",
    "    data_dict6 = json.load(json_data,encoding = \"ISO-8859-1\")    \n",
    "\n",
    "dfgames = pd.DataFrame.from_dict(data_dict6, orient='columns')\n",
    "\n",
    "with open('teams.json') as json_data:\n",
    "    data_dict1 = json.load(json_data,encoding = \"ISO-8859-1\")\n",
    "with open('coaches.json') as json_data:\n",
    "    data_dict2 = json.load(json_data,encoding = \"ISO-8859-1\")    \n",
    "\n",
    "dfteam = pd.DataFrame.from_dict(data_dict1, orient='columns')\n",
    "\n",
    "dfcoach = pd.DataFrame.from_dict(data_dict2, orient='columns')"
   ]
  },
  {
   "cell_type": "code",
   "execution_count": 118,
   "metadata": {},
   "outputs": [],
   "source": [
    "# After testing to join \"teams\" and 'coaches' we saw that we just found 13 coaches. SO we decided to work on the \"games\" file espacially with the column \"teamsData\"\n",
    "# we iterate over this column and we fill in the list the coach id and in a paralell list  with the id of the team he coached during the game\n",
    "listeidcoach = []\n",
    "listeidteam = []\n",
    "for index, row in dfgames.iterrows(): \n",
    "    for values in row.teamsData.values():\n",
    "        for k,i in values.items():\n",
    "            if k == 'coachId' :\n",
    "                listeidcoach.append(i)\n",
    "            elif k == 'teamId' :\n",
    "                listeidteam.append(i)\n",
    "            \n",
    "        \n",
    "        \n"
   ]
  },
  {
   "cell_type": "code",
   "execution_count": 119,
   "metadata": {},
   "outputs": [],
   "source": [
    "# Then we convert and concat the two dataframes \n",
    "dflisteidteam = pd.DataFrame(listeidteam, columns = ['wyId'])\n",
    "dflisteidcoach = pd.DataFrame(listeidcoach, columns = ['idcoach'])\n",
    "dfF = pd.concat([dflisteidteam,dflisteidcoach], axis = 1)"
   ]
  },
  {
   "cell_type": "code",
   "execution_count": null,
   "metadata": {},
   "outputs": [],
   "source": []
  },
  {
   "cell_type": "code",
   "execution_count": 120,
   "metadata": {},
   "outputs": [],
   "source": [
    "# After that, we merge the above dataframe with dfTeam to have the name of the teams, then with dfcoach to have the names' coach informations\n",
    "dfF = pd.merge(dfF, dfteam, on = 'wyId')\n",
    "dfcoach = dfcoach.rename(columns={'wyId': 'idcoach'})\n",
    "dfF = pd.merge(dfF, dfcoach, on = 'idcoach')"
   ]
  },
  {
   "cell_type": "code",
   "execution_count": null,
   "metadata": {},
   "outputs": [],
   "source": []
  },
  {
   "cell_type": "code",
   "execution_count": null,
   "metadata": {},
   "outputs": [],
   "source": []
  },
  {
   "cell_type": "code",
   "execution_count": 121,
   "metadata": {},
   "outputs": [],
   "source": [
    "# because we have duplicated rows, we just compute this lign\n",
    "dfF= dfF.drop_duplicates('idcoach')"
   ]
  },
  {
   "cell_type": "code",
   "execution_count": 122,
   "metadata": {},
   "outputs": [],
   "source": [
    "dfF = dfF.drop(['wyId', 'idcoach','area', 'city', 'name', 'type', 'birthArea', 'currentTeamId', 'firstName' , 'lastName', 'middleName', 'passportArea'], axis = 1)"
   ]
  },
  {
   "cell_type": "code",
   "execution_count": 123,
   "metadata": {},
   "outputs": [],
   "source": [
    "# write a function that return the age with the birth date in input\n",
    "from datetime import date \n",
    "  \n",
    "def calculateAge(birthDate): \n",
    "    today = date.today() \n",
    "    age = today.year - birthDate.year - ((today.month, today.day) < (birthDate.month, birthDate.day)) \n",
    "  \n",
    "    return age\n"
   ]
  },
  {
   "cell_type": "code",
   "execution_count": 124,
   "metadata": {},
   "outputs": [],
   "source": [
    "# write a program that iterrate over the coaches and calculate the age\n",
    "from datetime import date \n",
    "lstAge = []\n",
    "\n",
    "for row in dfF.birthDate:\n",
    "    dat = row.split('-')\n",
    "    a= int(dat[0])\n",
    "    b= int(dat[1])\n",
    "    c = int(dat[2])\n",
    "    age = calculateAge(date(a,b,c))\n",
    "    lstAge.append(age)                                         \n",
    "    "
   ]
  },
  {
   "cell_type": "code",
   "execution_count": 125,
   "metadata": {},
   "outputs": [],
   "source": [
    "# we concat the age with the initial dataframe\n",
    "dfAge = pd.DataFrame(lstAge, columns = ['Age'])\n",
    "dfquest3 = pd.concat([dfF.reset_index(), dfAge], axis=1 ) "
   ]
  },
  {
   "cell_type": "code",
   "execution_count": 126,
   "metadata": {},
   "outputs": [],
   "source": [
    "# we sort by birthdate\n",
    "dfquest3 = dfquest3.sort_values(by = 'birthDate',ascending = False) \n",
    "\n",
    "\n"
   ]
  },
  {
   "cell_type": "code",
   "execution_count": 127,
   "metadata": {},
   "outputs": [],
   "source": [
    "# after sorting by birthday, we drop duplicate to save only the youngest coach of each team\n",
    "dfquest3 = dfquest3.drop_duplicates('officialName')"
   ]
  },
  {
   "cell_type": "code",
   "execution_count": 128,
   "metadata": {},
   "outputs": [
    {
     "data": {
      "text/html": [
       "<div>\n",
       "<style scoped>\n",
       "    .dataframe tbody tr th:only-of-type {\n",
       "        vertical-align: middle;\n",
       "    }\n",
       "\n",
       "    .dataframe tbody tr th {\n",
       "        vertical-align: top;\n",
       "    }\n",
       "\n",
       "    .dataframe thead th {\n",
       "        text-align: right;\n",
       "    }\n",
       "</style>\n",
       "<table border=\"1\" class=\"dataframe\">\n",
       "  <thead>\n",
       "    <tr style=\"text-align: right;\">\n",
       "      <th></th>\n",
       "      <th>index</th>\n",
       "      <th>officialName</th>\n",
       "      <th>birthDate</th>\n",
       "      <th>shortName</th>\n",
       "      <th>Age</th>\n",
       "    </tr>\n",
       "  </thead>\n",
       "  <tbody>\n",
       "    <tr>\n",
       "      <th>1</th>\n",
       "      <td>37</td>\n",
       "      <td>AFC Bournemouth</td>\n",
       "      <td>1977-11-29</td>\n",
       "      <td>E. Howe</td>\n",
       "      <td>41</td>\n",
       "    </tr>\n",
       "    <tr>\n",
       "      <th>12</th>\n",
       "      <td>300</td>\n",
       "      <td>Watford FC</td>\n",
       "      <td>1977-07-12</td>\n",
       "      <td>Marco Silva</td>\n",
       "      <td>42</td>\n",
       "    </tr>\n",
       "    <tr>\n",
       "      <th>25</th>\n",
       "      <td>598</td>\n",
       "      <td>Leicester City FC</td>\n",
       "      <td>1975-12-04</td>\n",
       "      <td>M. Appleton</td>\n",
       "      <td>43</td>\n",
       "    </tr>\n",
       "    <tr>\n",
       "      <th>29</th>\n",
       "      <td>657</td>\n",
       "      <td>Everton FC</td>\n",
       "      <td>1973-10-16</td>\n",
       "      <td>D. Unsworth</td>\n",
       "      <td>46</td>\n",
       "    </tr>\n",
       "    <tr>\n",
       "      <th>15</th>\n",
       "      <td>392</td>\n",
       "      <td>Newcastle United FC</td>\n",
       "      <td>1973-02-19</td>\n",
       "      <td>Paco</td>\n",
       "      <td>46</td>\n",
       "    </tr>\n",
       "    <tr>\n",
       "      <th>27</th>\n",
       "      <td>607</td>\n",
       "      <td>Tottenham Hotspur FC</td>\n",
       "      <td>1972-03-02</td>\n",
       "      <td>M. Pochettino</td>\n",
       "      <td>47</td>\n",
       "    </tr>\n",
       "    <tr>\n",
       "      <th>22</th>\n",
       "      <td>540</td>\n",
       "      <td>Swansea City AFC</td>\n",
       "      <td>1972-01-08</td>\n",
       "      <td>P. Clement</td>\n",
       "      <td>47</td>\n",
       "    </tr>\n",
       "    <tr>\n",
       "      <th>8</th>\n",
       "      <td>178</td>\n",
       "      <td>Huddersfield Town FC</td>\n",
       "      <td>1971-10-19</td>\n",
       "      <td>D. Wagner</td>\n",
       "      <td>48</td>\n",
       "    </tr>\n",
       "    <tr>\n",
       "      <th>20</th>\n",
       "      <td>494</td>\n",
       "      <td>Southampton FC</td>\n",
       "      <td>1971-10-05</td>\n",
       "      <td>M. Pellegrino</td>\n",
       "      <td>48</td>\n",
       "    </tr>\n",
       "    <tr>\n",
       "      <th>0</th>\n",
       "      <td>0</td>\n",
       "      <td>Burnley FC</td>\n",
       "      <td>1971-06-28</td>\n",
       "      <td>S. Dyche</td>\n",
       "      <td>48</td>\n",
       "    </tr>\n",
       "    <tr>\n",
       "      <th>18</th>\n",
       "      <td>429</td>\n",
       "      <td>Manchester City FC</td>\n",
       "      <td>1971-01-18</td>\n",
       "      <td>Guardiola</td>\n",
       "      <td>48</td>\n",
       "    </tr>\n",
       "    <tr>\n",
       "      <th>3</th>\n",
       "      <td>108</td>\n",
       "      <td>Crystal Palace FC</td>\n",
       "      <td>1970-05-15</td>\n",
       "      <td>F. de Boer</td>\n",
       "      <td>49</td>\n",
       "    </tr>\n",
       "    <tr>\n",
       "      <th>23</th>\n",
       "      <td>558</td>\n",
       "      <td>Stoke City FC</td>\n",
       "      <td>1969-08-07</td>\n",
       "      <td>P. Lambert</td>\n",
       "      <td>50</td>\n",
       "    </tr>\n",
       "    <tr>\n",
       "      <th>17</th>\n",
       "      <td>426</td>\n",
       "      <td>Chelsea FC</td>\n",
       "      <td>1969-07-31</td>\n",
       "      <td>A. Conte</td>\n",
       "      <td>50</td>\n",
       "    </tr>\n",
       "    <tr>\n",
       "      <th>32</th>\n",
       "      <td>695</td>\n",
       "      <td>West Ham United FC</td>\n",
       "      <td>1968-09-11</td>\n",
       "      <td>S. Bilić</td>\n",
       "      <td>51</td>\n",
       "    </tr>\n",
       "    <tr>\n",
       "      <th>10</th>\n",
       "      <td>251</td>\n",
       "      <td>Liverpool FC</td>\n",
       "      <td>1967-06-16</td>\n",
       "      <td>J. Klopp</td>\n",
       "      <td>52</td>\n",
       "    </tr>\n",
       "    <tr>\n",
       "      <th>13</th>\n",
       "      <td>323</td>\n",
       "      <td>Manchester United FC</td>\n",
       "      <td>1963-01-26</td>\n",
       "      <td>José Mourinho</td>\n",
       "      <td>56</td>\n",
       "    </tr>\n",
       "    <tr>\n",
       "      <th>4</th>\n",
       "      <td>112</td>\n",
       "      <td>West Bromwich Albion FC</td>\n",
       "      <td>1961-07-18</td>\n",
       "      <td>A. Pardew</td>\n",
       "      <td>58</td>\n",
       "    </tr>\n",
       "    <tr>\n",
       "      <th>9</th>\n",
       "      <td>215</td>\n",
       "      <td>Brighton &amp; Hove Albion FC</td>\n",
       "      <td>1958-12-11</td>\n",
       "      <td>C. Hughton</td>\n",
       "      <td>60</td>\n",
       "    </tr>\n",
       "    <tr>\n",
       "      <th>7</th>\n",
       "      <td>143</td>\n",
       "      <td>Arsenal FC</td>\n",
       "      <td>1949-10-22</td>\n",
       "      <td>A. Wenger</td>\n",
       "      <td>70</td>\n",
       "    </tr>\n",
       "  </tbody>\n",
       "</table>\n",
       "</div>"
      ],
      "text/plain": [
       "    index               officialName   birthDate      shortName  Age\n",
       "1      37            AFC Bournemouth  1977-11-29        E. Howe   41\n",
       "12    300                 Watford FC  1977-07-12    Marco Silva   42\n",
       "25    598          Leicester City FC  1975-12-04    M. Appleton   43\n",
       "29    657                 Everton FC  1973-10-16    D. Unsworth   46\n",
       "15    392        Newcastle United FC  1973-02-19           Paco   46\n",
       "27    607       Tottenham Hotspur FC  1972-03-02  M. Pochettino   47\n",
       "22    540           Swansea City AFC  1972-01-08     P. Clement   47\n",
       "8     178       Huddersfield Town FC  1971-10-19      D. Wagner   48\n",
       "20    494             Southampton FC  1971-10-05  M. Pellegrino   48\n",
       "0       0                 Burnley FC  1971-06-28       S. Dyche   48\n",
       "18    429         Manchester City FC  1971-01-18      Guardiola   48\n",
       "3     108          Crystal Palace FC  1970-05-15     F. de Boer   49\n",
       "23    558              Stoke City FC  1969-08-07     P. Lambert   50\n",
       "17    426                 Chelsea FC  1969-07-31       A. Conte   50\n",
       "32    695         West Ham United FC  1968-09-11       S. Bilić   51\n",
       "10    251               Liverpool FC  1967-06-16       J. Klopp   52\n",
       "13    323       Manchester United FC  1963-01-26  José Mourinho   56\n",
       "4     112    West Bromwich Albion FC  1961-07-18      A. Pardew   58\n",
       "9     215  Brighton & Hove Albion FC  1958-12-11     C. Hughton   60\n",
       "7     143                 Arsenal FC  1949-10-22      A. Wenger   70"
      ]
     },
     "execution_count": 128,
     "metadata": {},
     "output_type": "execute_result"
    }
   ],
   "source": [
    "dfquest3"
   ]
  },
  {
   "cell_type": "code",
   "execution_count": 129,
   "metadata": {},
   "outputs": [
    {
     "data": {
      "text/html": [
       "<div>\n",
       "<style scoped>\n",
       "    .dataframe tbody tr th:only-of-type {\n",
       "        vertical-align: middle;\n",
       "    }\n",
       "\n",
       "    .dataframe tbody tr th {\n",
       "        vertical-align: top;\n",
       "    }\n",
       "\n",
       "    .dataframe thead th {\n",
       "        text-align: right;\n",
       "    }\n",
       "</style>\n",
       "<table border=\"1\" class=\"dataframe\">\n",
       "  <thead>\n",
       "    <tr style=\"text-align: right;\">\n",
       "      <th></th>\n",
       "      <th>index</th>\n",
       "      <th>officialName</th>\n",
       "      <th>birthDate</th>\n",
       "      <th>shortName</th>\n",
       "      <th>Age</th>\n",
       "    </tr>\n",
       "  </thead>\n",
       "  <tbody>\n",
       "    <tr>\n",
       "      <th>1</th>\n",
       "      <td>37</td>\n",
       "      <td>AFC Bournemouth</td>\n",
       "      <td>1977-11-29</td>\n",
       "      <td>E. Howe</td>\n",
       "      <td>41</td>\n",
       "    </tr>\n",
       "    <tr>\n",
       "      <th>12</th>\n",
       "      <td>300</td>\n",
       "      <td>Watford FC</td>\n",
       "      <td>1977-07-12</td>\n",
       "      <td>Marco Silva</td>\n",
       "      <td>42</td>\n",
       "    </tr>\n",
       "    <tr>\n",
       "      <th>25</th>\n",
       "      <td>598</td>\n",
       "      <td>Leicester City FC</td>\n",
       "      <td>1975-12-04</td>\n",
       "      <td>M. Appleton</td>\n",
       "      <td>43</td>\n",
       "    </tr>\n",
       "    <tr>\n",
       "      <th>29</th>\n",
       "      <td>657</td>\n",
       "      <td>Everton FC</td>\n",
       "      <td>1973-10-16</td>\n",
       "      <td>D. Unsworth</td>\n",
       "      <td>46</td>\n",
       "    </tr>\n",
       "    <tr>\n",
       "      <th>15</th>\n",
       "      <td>392</td>\n",
       "      <td>Newcastle United FC</td>\n",
       "      <td>1973-02-19</td>\n",
       "      <td>Paco</td>\n",
       "      <td>46</td>\n",
       "    </tr>\n",
       "    <tr>\n",
       "      <th>27</th>\n",
       "      <td>607</td>\n",
       "      <td>Tottenham Hotspur FC</td>\n",
       "      <td>1972-03-02</td>\n",
       "      <td>M. Pochettino</td>\n",
       "      <td>47</td>\n",
       "    </tr>\n",
       "    <tr>\n",
       "      <th>22</th>\n",
       "      <td>540</td>\n",
       "      <td>Swansea City AFC</td>\n",
       "      <td>1972-01-08</td>\n",
       "      <td>P. Clement</td>\n",
       "      <td>47</td>\n",
       "    </tr>\n",
       "    <tr>\n",
       "      <th>8</th>\n",
       "      <td>178</td>\n",
       "      <td>Huddersfield Town FC</td>\n",
       "      <td>1971-10-19</td>\n",
       "      <td>D. Wagner</td>\n",
       "      <td>48</td>\n",
       "    </tr>\n",
       "    <tr>\n",
       "      <th>20</th>\n",
       "      <td>494</td>\n",
       "      <td>Southampton FC</td>\n",
       "      <td>1971-10-05</td>\n",
       "      <td>M. Pellegrino</td>\n",
       "      <td>48</td>\n",
       "    </tr>\n",
       "    <tr>\n",
       "      <th>0</th>\n",
       "      <td>0</td>\n",
       "      <td>Burnley FC</td>\n",
       "      <td>1971-06-28</td>\n",
       "      <td>S. Dyche</td>\n",
       "      <td>48</td>\n",
       "    </tr>\n",
       "  </tbody>\n",
       "</table>\n",
       "</div>"
      ],
      "text/plain": [
       "    index          officialName   birthDate      shortName  Age\n",
       "1      37       AFC Bournemouth  1977-11-29        E. Howe   41\n",
       "12    300            Watford FC  1977-07-12    Marco Silva   42\n",
       "25    598     Leicester City FC  1975-12-04    M. Appleton   43\n",
       "29    657            Everton FC  1973-10-16    D. Unsworth   46\n",
       "15    392   Newcastle United FC  1973-02-19           Paco   46\n",
       "27    607  Tottenham Hotspur FC  1972-03-02  M. Pochettino   47\n",
       "22    540      Swansea City AFC  1972-01-08     P. Clement   47\n",
       "8     178  Huddersfield Town FC  1971-10-19      D. Wagner   48\n",
       "20    494        Southampton FC  1971-10-05  M. Pellegrino   48\n",
       "0       0            Burnley FC  1971-06-28       S. Dyche   48"
      ]
     },
     "execution_count": 129,
     "metadata": {},
     "output_type": "execute_result"
    }
   ],
   "source": [
    "# we keep the top 10 ranking\n",
    "dfquest3.drop_duplicates('officialName').head(10)"
   ]
  },
  {
   "cell_type": "code",
   "execution_count": 130,
   "metadata": {},
   "outputs": [],
   "source": [
    "dfquest3 = dfquest3.drop_duplicates('officialName').head(20)"
   ]
  },
  {
   "cell_type": "code",
   "execution_count": 131,
   "metadata": {},
   "outputs": [
    {
     "data": {
      "image/png": "[encoded data removed]",
      "text/plain": [
       "<Figure size 432x288 with 1 Axes>"
      ]
     },
     "metadata": {
      "needs_background": "light"
     },
     "output_type": "display_data"
    }
   ],
   "source": [
    "boxplot = dfquest3.boxplot(column=['Age'])"
   ]
  },
  {
   "cell_type": "markdown",
   "metadata": {},
   "source": [
    "#The median age is around 46 years. Half of the coaches are over 46 and half are under. "
   ]
  },
  {
   "cell_type": "markdown",
   "metadata": {},
   "source": [
    "# Question 4 : Find the top 10 players with the highest ratio between completed passes and attempted passes."
   ]
  },
  {
   "cell_type": "code",
   "execution_count": 132,
   "metadata": {},
   "outputs": [],
   "source": [
    "import json\n",
    "import pandas as pd\n",
    "with open('events_England.json') as json_data:\n",
    "    data_dict2 = json.load(json_data,encoding = \"ISO-8859-1\")    \n",
    "\n",
    "dfevents = pd.DataFrame.from_dict(data_dict2, orient='columns')\n",
    "\n",
    "with open('players.json') as json_data:\n",
    "    data_dict3 = json.load(json_data,encoding = \"ISO-8859-1\")    \n",
    "\n",
    "dfplayers = pd.DataFrame.from_dict(data_dict3, orient='columns')\n",
    "\n",
    "with open('teams.json') as json_data:\n",
    "    team = json.load(json_data)\n",
    "dfteam = pd.DataFrame(team)\n",
    "country = []\n",
    "import numpy as np\n",
    "for row in dfteam.area:\n",
    "    for clef,values in row.items():\n",
    "        if clef == \"name\":\n",
    "            country.append(values)\n",
    "dfcountry = pd.DataFrame(country, columns = [\"country\"])\n",
    "dfteam = pd.concat([dfteam, dfcountry], axis=1 )\n",
    "dfenglishteam = dfteam.loc[(dfteam['country'] == 'England') | (dfteam['country'] == 'Wales') ]\n"
   ]
  },
  {
   "cell_type": "code",
   "execution_count": 133,
   "metadata": {},
   "outputs": [],
   "source": [
    "# We merge the dataframe events and players\n",
    "dfplayers = dfplayers.rename(columns={'wyId': 'playerId'})\n",
    "a = pd.merge(dfevents,dfplayers, on = 'playerId')\n",
    "dfFinal = a.loc[(a['eventName'] == 'Pass' ), :]\n"
   ]
  },
  {
   "cell_type": "code",
   "execution_count": 134,
   "metadata": {},
   "outputs": [],
   "source": [
    "# we define a list that will describe each pass by \"accurate\" or \"not accurate\"\n",
    "liste = []\n",
    "for row in dfFinal.tags:\n",
    "    a = row[-1]\n",
    "    for values in a.values():\n",
    "        if int(values) == 1801:\n",
    "            liste.append('Reussi')\n",
    "        else: \n",
    "            liste.append('Echec')\n",
    "        "
   ]
  },
  {
   "cell_type": "code",
   "execution_count": 135,
   "metadata": {},
   "outputs": [],
   "source": [
    "dfPass = pd.DataFrame(liste, columns = ['Pass'])\n",
    "dfFinal = dfFinal.reset_index()\n",
    "dfFinal = pd.concat([dfFinal, dfPass], axis = 1)"
   ]
  },
  {
   "cell_type": "code",
   "execution_count": 136,
   "metadata": {},
   "outputs": [],
   "source": [
    "dfFinal = pd.DataFrame(dfFinal)"
   ]
  },
  {
   "cell_type": "code",
   "execution_count": 137,
   "metadata": {},
   "outputs": [],
   "source": [
    "tab = pd.crosstab(dfFinal['lastName'],dfFinal['Pass']) # we create the contingency table which displays each player with the accurate and not accurate pass"
   ]
  },
  {
   "cell_type": "code",
   "execution_count": 138,
   "metadata": {},
   "outputs": [
    {
     "data": {
      "text/html": [
       "<div>\n",
       "<style scoped>\n",
       "    .dataframe tbody tr th:only-of-type {\n",
       "        vertical-align: middle;\n",
       "    }\n",
       "\n",
       "    .dataframe tbody tr th {\n",
       "        vertical-align: top;\n",
       "    }\n",
       "\n",
       "    .dataframe thead th {\n",
       "        text-align: right;\n",
       "    }\n",
       "</style>\n",
       "<table border=\"1\" class=\"dataframe\">\n",
       "  <thead>\n",
       "    <tr style=\"text-align: right;\">\n",
       "      <th></th>\n",
       "      <th>Accuracy</th>\n",
       "      <th>lastName</th>\n",
       "    </tr>\n",
       "  </thead>\n",
       "  <tbody>\n",
       "    <tr>\n",
       "      <th>431</th>\n",
       "      <td>97.6</td>\n",
       "      <td>Stones</td>\n",
       "    </tr>\n",
       "    <tr>\n",
       "      <th>442</th>\n",
       "      <td>94.8</td>\n",
       "      <td>Tour\\u00e9</td>\n",
       "    </tr>\n",
       "    <tr>\n",
       "      <th>117</th>\n",
       "      <td>94.5</td>\n",
       "      <td>Delph</td>\n",
       "    </tr>\n",
       "    <tr>\n",
       "      <th>233</th>\n",
       "      <td>94.3</td>\n",
       "      <td>Kompany</td>\n",
       "    </tr>\n",
       "    <tr>\n",
       "      <th>87</th>\n",
       "      <td>94.0</td>\n",
       "      <td>Christensen</td>\n",
       "    </tr>\n",
       "    <tr>\n",
       "      <th>297</th>\n",
       "      <td>94.0</td>\n",
       "      <td>Mertesacker</td>\n",
       "    </tr>\n",
       "    <tr>\n",
       "      <th>214</th>\n",
       "      <td>93.9</td>\n",
       "      <td>Jones</td>\n",
       "    </tr>\n",
       "    <tr>\n",
       "      <th>345</th>\n",
       "      <td>93.8</td>\n",
       "      <td>Otamendi</td>\n",
       "    </tr>\n",
       "    <tr>\n",
       "      <th>134</th>\n",
       "      <td>93.6</td>\n",
       "      <td>Elsayed Elneny</td>\n",
       "    </tr>\n",
       "    <tr>\n",
       "      <th>332</th>\n",
       "      <td>93.6</td>\n",
       "      <td>Nilsson Lindel\\u00f6f</td>\n",
       "    </tr>\n",
       "  </tbody>\n",
       "</table>\n",
       "</div>"
      ],
      "text/plain": [
       "     Accuracy               lastName\n",
       "431      97.6                 Stones\n",
       "442      94.8             Tour\\u00e9\n",
       "117      94.5                  Delph\n",
       "233      94.3                Kompany\n",
       "87       94.0            Christensen\n",
       "297      94.0            Mertesacker\n",
       "214      93.9                  Jones\n",
       "345      93.8               Otamendi\n",
       "134      93.6         Elsayed Elneny\n",
       "332      93.6  Nilsson Lindel\\u00f6f"
      ]
     },
     "execution_count": 138,
     "metadata": {},
     "output_type": "execute_result"
    }
   ],
   "source": [
    "# we iterate over the tab above and for each name we calculate the pass accuracy \n",
    "listenom = []\n",
    "listeAcc = []\n",
    "for index,row in tab.iterrows():\n",
    "    listenom.append(index)\n",
    "    somme = (int(row[0]) + int(row[1]))\n",
    "    if (somme > 100): # we consider the equivalent of 2 completed games \n",
    "        a = int(row[1])/somme\n",
    "        listeAcc.append(round(a*100, 1))\n",
    "    else: \n",
    "        listeAcc.append(0)\n",
    "# after that we create dataframe from the list, we concatenate and we display the top10\n",
    "dfAcc = pd.DataFrame(listeAcc, columns = ['Accuracy'])\n",
    "dfname = pd.DataFrame(listenom, columns = ['lastName'])\n",
    "final = pd.concat([dfAcc, dfname], axis = 1)\n",
    "final.sort_values(by='Accuracy', ascending=False).head(10)"
   ]
  },
  {
   "cell_type": "markdown",
   "metadata": {},
   "source": [
    "# Question 5 :Does being a tall player mean winning more air duels?"
   ]
  },
  {
   "cell_type": "code",
   "execution_count": 139,
   "metadata": {},
   "outputs": [],
   "source": [
    "\n",
    "dfplayers = dfplayers.rename(columns={'wyId': 'playerId'})\n",
    "a = pd.merge(dfevents,dfplayers, on = 'playerId')\n",
    "dfFinal = a.loc[(a['eventName'] == 'Duel' ) & (a['subEventId'] == 10 ) ,:]# as we have done previously, we select only the airduel\n",
    "liste = []\n",
    "for row in dfFinal.tags:\n",
    "    a = row[-1]\n",
    "    for values in a.values():\n",
    "        if int(values) == 1801:\n",
    "            liste.append('Reussi')\n",
    "        else: \n",
    "            liste.append('Echec')\n",
    "# for each air duel, we fill a list with \"accurate\" or 'not accurate'"
   ]
  },
  {
   "cell_type": "code",
   "execution_count": 140,
   "metadata": {},
   "outputs": [],
   "source": [
    "dfDuel = pd.DataFrame(liste, columns = ['Duel'])\n",
    "dfFinal = dfFinal.reset_index()\n",
    "dfFinal = pd.concat([dfFinal, dfDuel], axis = 1)\n",
    "dfFinal = dfFinal.drop([ 'passportArea', 'eventSec', 'positions'], axis=1)\n"
   ]
  },
  {
   "cell_type": "code",
   "execution_count": 141,
   "metadata": {},
   "outputs": [],
   "source": [
    "tab = pd.crosstab(dfFinal['shortName'],dfFinal['Duel']) # as previously, we create the contingency table"
   ]
  },
  {
   "cell_type": "code",
   "execution_count": 142,
   "metadata": {},
   "outputs": [],
   "source": [
    "# we iterate over tab to calculate, for each player, the accuracy\n",
    "listename = []\n",
    "listeAcc = []\n",
    "for index,row in tab.iterrows():\n",
    "    listename.append(index)\n",
    "    somme = (int(row[0]) + int(row[1]))\n",
    "    if (somme > 20): #we consider the equivalent of two completed games\n",
    "        a = int(row[1])/somme\n",
    "        listeAcc.append(round(a*100, 1))\n",
    "    else: \n",
    "        listeAcc.append(0)\n",
    "dfAcc = pd.DataFrame(listeAcc, columns = ['Accuracy'])\n",
    "dfname = pd.DataFrame(listename, columns = ['shortName'])\n",
    "final = pd.concat([dfAcc, dfname], axis = 1)\n",
    "\n",
    "\n"
   ]
  },
  {
   "cell_type": "code",
   "execution_count": 143,
   "metadata": {},
   "outputs": [],
   "source": [
    "dfFinal = pd.merge(dfplayers,final, on = 'shortName')\n"
   ]
  },
  {
   "cell_type": "code",
   "execution_count": 144,
   "metadata": {},
   "outputs": [
    {
     "data": {
      "text/plain": [
       "[<matplotlib.lines.Line2D at 0x25fbaf7df98>]"
      ]
     },
     "execution_count": 144,
     "metadata": {},
     "output_type": "execute_result"
    },
    {
     "data": {
      "image/png": "[encoded data removed]",
      "text/plain": [
       "<Figure size 432x288 with 1 Axes>"
      ]
     },
     "metadata": {
      "needs_background": "light"
     },
     "output_type": "display_data"
    }
   ],
   "source": [
    "## We plot the linear regression associated to our study\n",
    "import matplotlib.pyplot as plt\n",
    "listex = []\n",
    "listey=[]\n",
    "for index, row in dfFinal.iterrows():\n",
    "    if row.Accuracy > 0:\n",
    "        listex.append(row.height)\n",
    "        listey.append(row.Accuracy)\n",
    "    \n",
    "axes = plt.axes()\n",
    "axes.grid() \n",
    "\n",
    "\n",
    "\n",
    "from scipy import stats\n",
    "slope, intercept, r_value, p_value, std_err = stats.linregress(listex, listey)\n",
    "def predict(x):\n",
    "   return slope * x + intercept\n",
    "fitLine = predict(np.array(listex))\n",
    "for k in range(len(listex)):\n",
    "    if listex[k] <= 165 : \n",
    "        plt.plot(listex[k],listey[k],'o',color = 'red')\n",
    "    elif listex[k] > 165 and listex[k] <= 170  : \n",
    "        plt.plot(listex[k],listey[k],'o',color = 'blue')\n",
    "    elif listex[k] > 170 and listex[k] <= 175  : \n",
    "        plt.plot(listex[k],listey[k],'o',color = 'yellow')\n",
    "    elif listex[k] > 175 and listex[k] <= 180  : \n",
    "        plt.plot(listex[k],listey[k],'o',color = 'orange')\n",
    "    elif listex[k] > 180 and listex[k] <= 185  : \n",
    "        plt.plot(listex[k],listey[k],'o',color = 'green')\n",
    "    elif listex[k] > 185 and listex[k] <= 190  : \n",
    "        plt.plot(listex[k],listey[k],'o',color = 'black')\n",
    "    elif listex[k] > 190 and listex[k] <= 195  : \n",
    "        plt.plot(listex[k],listey[k],'o',color = 'pink')\n",
    "    else : \n",
    "        plt.plot(listex[k],listey[k],'o',color = 'grey')\n",
    "plt.plot(listex, fitLine, c='r')\n",
    "    \n"
   ]
  },
  {
   "cell_type": "markdown",
   "metadata": {},
   "source": [
    "# Question 6 : Free your mind! "
   ]
  },
  {
   "cell_type": "markdown",
   "metadata": {},
   "source": [
    "We try to see if winning the duels during the games has influence on the team results"
   ]
  },
  {
   "cell_type": "code",
   "execution_count": 43,
   "metadata": {},
   "outputs": [],
   "source": [
    "dfenglishteam = dfenglishteam.head(20)\n"
   ]
  },
  {
   "cell_type": "code",
   "execution_count": 44,
   "metadata": {},
   "outputs": [],
   "source": [
    "## We start by creating a list that will contain tuples which contain the name of the team + the final number of points\n",
    "import pylab\n",
    "ranking = []\n",
    "for name in dfenglishteam.head(20).name:\n",
    "    df = dfResult.loc[(dfResult['EquipeA'] == name) | (dfResult['EquipeB'] == name)]\n",
    "    df = df.sort_values(by = 'gameweek')\n",
    "    point = []\n",
    "    i = 0\n",
    "    for index,row in df.iterrows():\n",
    "        if row['Draw'] == \"NON\":\n",
    "            if (row['gagnant'] == name):\n",
    "                if i == 0:\n",
    "                    point.append(3)\n",
    "                elif i !=0:\n",
    "                    point.append(3+point[i-1])\n",
    "                i = i+1\n",
    "            elif (row['perdant'] == name):  \n",
    "                if i == 0:\n",
    "                    point.append(0)\n",
    "                elif i !=0:\n",
    "                    point.append(0+point[i-1])\n",
    "                i = i+1\n",
    "        else:\n",
    "            if i == 0:\n",
    "                    point.append(1)\n",
    "            if i !=0:\n",
    "                    point.append(1+point[i-1])\n",
    "            i = i+1\n",
    "    ranking.append((name, point[-1]))"
   ]
  },
  {
   "cell_type": "code",
   "execution_count": 45,
   "metadata": {},
   "outputs": [],
   "source": [
    "## we create here 2 parallel lists : one with the name of the team, and one with the final number of points\n",
    "name = []\n",
    "point = []\n",
    "for k in range(len(ranking)):\n",
    "    name.append(ranking[k][0])\n",
    "    point.append(ranking[k][1])"
   ]
  },
  {
   "cell_type": "code",
   "execution_count": 46,
   "metadata": {},
   "outputs": [],
   "source": [
    "# we convert each list above to dataframe and we concat them\n",
    "dfname = pd.DataFrame(name, columns = ['name'])\n",
    "dfpoint = pd.DataFrame(point, columns = ['point'])\n",
    "dfclass = pd.concat([dfname, dfpoint], axis = 1)\n",
    "\n"
   ]
  },
  {
   "cell_type": "code",
   "execution_count": 47,
   "metadata": {},
   "outputs": [],
   "source": [
    "# We join the two dataframe on 'name' key to have all the usefull informations in one dataframe\n",
    "dfenglishteam = pd.merge(dfenglishteam, dfclass, on = 'name')\n"
   ]
  },
  {
   "cell_type": "code",
   "execution_count": 48,
   "metadata": {},
   "outputs": [],
   "source": [
    "# we merge the above dataframe with the 'events' and 'players' to have in one dataframe each event, with the name of the player, and the name of the team\n",
    "with open('events_England.json') as json_data:\n",
    "    data_dict2 = json.load(json_data,encoding = \"ISO-8859-1\")    \n",
    "\n",
    "dfevents = pd.DataFrame.from_dict(data_dict2, orient='columns')\n",
    "\n",
    "with open('players.json') as json_data:\n",
    "    data_dict3 = json.load(json_data,encoding = \"ISO-8859-1\")    \n",
    "\n",
    "dfplayers = pd.DataFrame.from_dict(data_dict3, orient='columns')\n",
    "dfenglishteam = dfenglishteam.rename(columns={'wyId': 'currentTeamId'})\n",
    "dffirst = pd.merge(dfplayers,dfenglishteam, on = 'currentTeamId')\n",
    "dffirst = dffirst.rename(columns={'wyId': 'playerId'})\n",
    "dfFinal = pd.merge(dfevents,dffirst, on = 'playerId')\n",
    "dfFinal = dfFinal.loc[(dfFinal['eventName'] == 'Duel' ), :]"
   ]
  },
  {
   "cell_type": "code",
   "execution_count": 49,
   "metadata": {},
   "outputs": [],
   "source": [
    "# we iteratte on the merged dataframe 'dfFinal' and for each Duel, we see if its accurate or not. we write the response in a list\n",
    "liste = []\n",
    "for row in dfFinal.tags:\n",
    "    a = row[-1]\n",
    "    for values in a.values():\n",
    "        if int(values) == 1801:\n",
    "            liste.append('Reussi')\n",
    "        else: \n",
    "            liste.append('Echec')"
   ]
  },
  {
   "cell_type": "code",
   "execution_count": 50,
   "metadata": {},
   "outputs": [],
   "source": [
    "# we convert the list to dataframe and we concat.\n",
    "dfduel = pd.DataFrame(liste, columns = ['resultDuel'])\n",
    "dfFinal = dfFinal.reset_index()\n",
    "dfFinal = pd.concat([dfFinal, dfduel], axis = 1)\n"
   ]
  },
  {
   "cell_type": "code",
   "execution_count": 51,
   "metadata": {},
   "outputs": [],
   "source": [
    "# we create the contingency table to have for each team, the number of accurate duel and the number of non accurate duel\n",
    "tab = pd.crosstab(dfFinal['name'],dfFinal['resultDuel']) \n",
    "tab = tab.reset_index()\n",
    "d = pd.merge(dfenglishteam,tab, on = 'name')\n"
   ]
  },
  {
   "cell_type": "code",
   "execution_count": 52,
   "metadata": {},
   "outputs": [],
   "source": [
    "# we iterate over the table and we compute the accuracy, then we plot\n",
    "acc = []\n",
    "point = []\n",
    "for index, row in d.iterrows():\n",
    "    point.append(row['point'])\n",
    "    a = int(row['Echec'])+ int(row['Reussi'])\n",
    "    b = float(int(row['Reussi']) / a)\n",
    "    acc.append(b)\n",
    "    \n",
    "\n"
   ]
  },
  {
   "cell_type": "code",
   "execution_count": 53,
   "metadata": {},
   "outputs": [
    {
     "data": {
      "text/plain": [
       "[<matplotlib.lines.Line2D at 0x25f43c4d7f0>]"
      ]
     },
     "execution_count": 53,
     "metadata": {},
     "output_type": "execute_result"
    },
    {
     "data": {
      "image/png": "[encoded data removed]",
      "text/plain": [
       "<Figure size 432x288 with 1 Axes>"
      ]
     },
     "metadata": {
      "needs_background": "light"
     },
     "output_type": "display_data"
    }
   ],
   "source": [
    "import matplotlib.pyplot as plt\n",
    "\n",
    "axes = plt.axes()\n",
    "axes.grid() \n",
    "\n",
    "\n",
    "\n",
    "from scipy import stats\n",
    "slope, intercept, r_value, p_value, std_err = stats.linregress(acc, point)\n",
    "def predict(x):\n",
    "   return slope * x + intercept\n",
    "fitLine = predict(np.array(acc))\n",
    "plt.scatter(acc,point) \n",
    "plt.plot(acc, fitLine, c='r')\n"
   ]
  },
  {
   "cell_type": "markdown",
   "metadata": {},
   "source": [
    "#In the football world, we always say that we have to win the Duel to win the game. \n",
    "Here we see that there is a link between winning duels and winning games. However, this link is so weak that it's complicated to make a linear regression"
   ]
  },
  {
   "cell_type": "markdown",
   "metadata": {},
   "source": [
    "# What are the time slots of the match with more goals?"
   ]
  },
  {
   "cell_type": "code",
   "execution_count": 54,
   "metadata": {},
   "outputs": [],
   "source": [
    "import json\n",
    "import pandas as pd\n",
    "with open('events_England.json') as json_data:\n",
    "    data_dict2 = json.load(json_data,encoding = \"ISO-8859-1\")    \n",
    "\n",
    "dfevents = pd.DataFrame.from_dict(data_dict2, orient='columns')\n"
   ]
  },
  {
   "cell_type": "code",
   "execution_count": 55,
   "metadata": {},
   "outputs": [],
   "source": [
    "# we define the dataframe dfShot that select only shot and free kick\n",
    "len(dfevents.loc[dfevents['subEventId'] == 100 ].tags)\n",
    "dfShot = dfevents.loc[(dfevents['eventName'] == 'Shot') | (dfevents['eventName'] == 'Free Kick') ]\n",
    "\n"
   ]
  },
  {
   "cell_type": "code",
   "execution_count": 56,
   "metadata": {},
   "outputs": [],
   "source": [
    "# for each shot and free kick, we see if it leads to a goal\n",
    "liste = []\n",
    "for row in dfShot.tags:\n",
    "    if len(row)>0:\n",
    "        a = row[0]\n",
    "        for values in a.values():\n",
    "            if int(values) == 101 :\n",
    "                liste.append('Goal')\n",
    "            else:\n",
    "                liste.append('Not Goal')\n",
    "    else :\n",
    "        liste.append('Not Goal')\n",
    "     "
   ]
  },
  {
   "cell_type": "code",
   "execution_count": 57,
   "metadata": {},
   "outputs": [],
   "source": [
    "# we concat dfShot and dfGoals\n",
    "dfgoal = pd.DataFrame(liste,columns = [\"goal\"])\n",
    "dfgoal =pd.concat([dfShot.reset_index(), dfgoal], axis = 1)\n",
    "dfgoal = dfgoal.sort_values(by=['matchPeriod', 'eventSec'] , ascending=True)"
   ]
  },
  {
   "cell_type": "code",
   "execution_count": 58,
   "metadata": {},
   "outputs": [],
   "source": [
    "# for each shot/freekick in dfGoal, we convert the moment of the action in minute, we see in which interval it belongs to, and we put the result in a new list\n",
    "listeInter = []\n",
    "\n",
    "for index, row in dfgoal.loc[(dfgoal['matchPeriod'] == '1H')].iterrows() : \n",
    "    x = (float(row['eventSec'])/60)\n",
    "    if x>0 and x<9:\n",
    "        listeInter.append('0-9')\n",
    "    elif x>9 and x<18:\n",
    "        listeInter.append('09-18')\n",
    "    elif x>18 and x<27:\n",
    "        listeInter.append('18-27')    \n",
    "    elif x>27 and x<36:\n",
    "        listeInter.append('27-36')\n",
    "    elif x>36 and x<45:\n",
    "        listeInter.append('36-45') \n",
    "    elif x > 45: \n",
    "        listeInter.append('45+')\n",
    "for index, row in dfgoal.loc[(dfgoal['matchPeriod'] == '2H')].iterrows() : \n",
    "    x = (float(row['eventSec'])/60)+45\n",
    "    if x>45 and x<54:\n",
    "        listeInter.append('45-54')\n",
    "    elif x>54 and x<63:\n",
    "        listeInter.append('54-63')\n",
    "    elif x>63 and x<72:\n",
    "        listeInter.append('63-72')    \n",
    "    elif x>72 and x<81:\n",
    "        listeInter.append('72-81')\n",
    "    elif x>81 and x<90:\n",
    "        listeInter.append('81-90') \n",
    "    elif x > 90: \n",
    "        listeInter.append('90+')        \n",
    "        \n",
    "        \n",
    "\n",
    "\n"
   ]
  },
  {
   "cell_type": "code",
   "execution_count": 59,
   "metadata": {},
   "outputs": [],
   "source": [
    "# as usual, we convert and concatenate\n",
    "dfinter = pd.DataFrame(listeInter, columns=['inter'])\n",
    "dfgoal = dfgoal.reset_index()\n",
    "dfgoal = pd.concat([dfgoal, dfinter], axis = 1)\n"
   ]
  },
  {
   "cell_type": "code",
   "execution_count": 60,
   "metadata": {},
   "outputs": [
    {
     "data": {
      "text/html": [
       "<div>\n",
       "<style scoped>\n",
       "    .dataframe tbody tr th:only-of-type {\n",
       "        vertical-align: middle;\n",
       "    }\n",
       "\n",
       "    .dataframe tbody tr th {\n",
       "        vertical-align: top;\n",
       "    }\n",
       "\n",
       "    .dataframe thead th {\n",
       "        text-align: right;\n",
       "    }\n",
       "</style>\n",
       "<table border=\"1\" class=\"dataframe\">\n",
       "  <thead>\n",
       "    <tr style=\"text-align: right;\">\n",
       "      <th>goal</th>\n",
       "      <th>Goal</th>\n",
       "      <th>Not Goal</th>\n",
       "    </tr>\n",
       "    <tr>\n",
       "      <th>inter</th>\n",
       "      <th></th>\n",
       "      <th></th>\n",
       "    </tr>\n",
       "  </thead>\n",
       "  <tbody>\n",
       "    <tr>\n",
       "      <th>0-9</th>\n",
       "      <td>70</td>\n",
       "      <td>4109</td>\n",
       "    </tr>\n",
       "    <tr>\n",
       "      <th>09-18</th>\n",
       "      <td>75</td>\n",
       "      <td>4099</td>\n",
       "    </tr>\n",
       "    <tr>\n",
       "      <th>18-27</th>\n",
       "      <td>85</td>\n",
       "      <td>4062</td>\n",
       "    </tr>\n",
       "    <tr>\n",
       "      <th>27-36</th>\n",
       "      <td>72</td>\n",
       "      <td>3956</td>\n",
       "    </tr>\n",
       "    <tr>\n",
       "      <th>36-45</th>\n",
       "      <td>87</td>\n",
       "      <td>4160</td>\n",
       "    </tr>\n",
       "    <tr>\n",
       "      <th>45+</th>\n",
       "      <td>24</td>\n",
       "      <td>1012</td>\n",
       "    </tr>\n",
       "    <tr>\n",
       "      <th>45-54</th>\n",
       "      <td>104</td>\n",
       "      <td>4088</td>\n",
       "    </tr>\n",
       "    <tr>\n",
       "      <th>54-63</th>\n",
       "      <td>101</td>\n",
       "      <td>4089</td>\n",
       "    </tr>\n",
       "    <tr>\n",
       "      <th>63-72</th>\n",
       "      <td>101</td>\n",
       "      <td>4020</td>\n",
       "    </tr>\n",
       "    <tr>\n",
       "      <th>72-81</th>\n",
       "      <td>115</td>\n",
       "      <td>3926</td>\n",
       "    </tr>\n",
       "    <tr>\n",
       "      <th>81-90</th>\n",
       "      <td>105</td>\n",
       "      <td>4159</td>\n",
       "    </tr>\n",
       "    <tr>\n",
       "      <th>90+</th>\n",
       "      <td>49</td>\n",
       "      <td>2206</td>\n",
       "    </tr>\n",
       "  </tbody>\n",
       "</table>\n",
       "</div>"
      ],
      "text/plain": [
       "goal   Goal  Not Goal\n",
       "inter                \n",
       "0-9      70      4109\n",
       "09-18    75      4099\n",
       "18-27    85      4062\n",
       "27-36    72      3956\n",
       "36-45    87      4160\n",
       "45+      24      1012\n",
       "45-54   104      4088\n",
       "54-63   101      4089\n",
       "63-72   101      4020\n",
       "72-81   115      3926\n",
       "81-90   105      4159\n",
       "90+      49      2206"
      ]
     },
     "execution_count": 60,
     "metadata": {},
     "output_type": "execute_result"
    }
   ],
   "source": [
    "tab = pd.crosstab(dfgoal['inter'],dfgoal['goal'])\n",
    "tab"
   ]
  },
  {
   "cell_type": "code",
   "execution_count": 61,
   "metadata": {},
   "outputs": [
    {
     "data": {
      "image/png": "[encoded data removed]",
      "text/plain": [
       "<Figure size 432x288 with 1 Axes>"
      ]
     },
     "metadata": {
      "needs_background": "light"
     },
     "output_type": "display_data"
    }
   ],
   "source": [
    "#we plot for each interval the number of goals\n",
    "import numpy as np\n",
    "import matplotlib.pyplot as plt\n",
    "x=[]\n",
    "y=[]\n",
    "for index, row in tab.iterrows(): \n",
    "    x.append(index)\n",
    "    y.append(row[0])\n",
    "\n",
    "y_pos = np.arange(len(x))\n",
    "plt.bar(y_pos, y)\n",
    "\n",
    "# Create names on the x-axis\n",
    "plt.xticks(y_pos, x)\n",
    "\n",
    "plt.show()\n",
    "\n"
   ]
  },
  {
   "cell_type": "code",
   "execution_count": 62,
   "metadata": {},
   "outputs": [],
   "source": [
    "# for this question, we need the informations of teams, so we merge 'team' and 'dfgoal', and we only keep the events that lead to a goal\n",
    "dfenglishteam = dfenglishteam.rename(columns={'currentTeamId': 'teamId'})\n",
    "dfgoal = pd.merge(dfgoal,dfenglishteam, on = 'teamId' )\n",
    "dfgoal = dfgoal.loc[dfgoal['goal']== 'Goal']"
   ]
  },
  {
   "cell_type": "code",
   "execution_count": 63,
   "metadata": {},
   "outputs": [
    {
     "data": {
      "text/html": [
       "<div>\n",
       "<style scoped>\n",
       "    .dataframe tbody tr th:only-of-type {\n",
       "        vertical-align: middle;\n",
       "    }\n",
       "\n",
       "    .dataframe tbody tr th {\n",
       "        vertical-align: top;\n",
       "    }\n",
       "\n",
       "    .dataframe thead th {\n",
       "        text-align: right;\n",
       "    }\n",
       "</style>\n",
       "<table border=\"1\" class=\"dataframe\">\n",
       "  <thead>\n",
       "    <tr style=\"text-align: right;\">\n",
       "      <th></th>\n",
       "      <th>81-90</th>\n",
       "    </tr>\n",
       "    <tr>\n",
       "      <th>name</th>\n",
       "      <th></th>\n",
       "    </tr>\n",
       "  </thead>\n",
       "  <tbody>\n",
       "    <tr>\n",
       "      <th>Manchester City</th>\n",
       "      <td>13</td>\n",
       "    </tr>\n",
       "    <tr>\n",
       "      <th>Arsenal</th>\n",
       "      <td>11</td>\n",
       "    </tr>\n",
       "    <tr>\n",
       "      <th>Manchester United</th>\n",
       "      <td>9</td>\n",
       "    </tr>\n",
       "    <tr>\n",
       "      <th>Chelsea</th>\n",
       "      <td>9</td>\n",
       "    </tr>\n",
       "    <tr>\n",
       "      <th>Liverpool</th>\n",
       "      <td>7</td>\n",
       "    </tr>\n",
       "    <tr>\n",
       "      <th>Watford</th>\n",
       "      <td>7</td>\n",
       "    </tr>\n",
       "    <tr>\n",
       "      <th>Crystal Palace</th>\n",
       "      <td>7</td>\n",
       "    </tr>\n",
       "    <tr>\n",
       "      <th>West Ham United</th>\n",
       "      <td>6</td>\n",
       "    </tr>\n",
       "    <tr>\n",
       "      <th>Tottenham Hotspur</th>\n",
       "      <td>5</td>\n",
       "    </tr>\n",
       "    <tr>\n",
       "      <th>AFC Bournemouth</th>\n",
       "      <td>5</td>\n",
       "    </tr>\n",
       "  </tbody>\n",
       "</table>\n",
       "</div>"
      ],
      "text/plain": [
       "                   81-90\n",
       "name                    \n",
       "Manchester City       13\n",
       "Arsenal               11\n",
       "Manchester United      9\n",
       "Chelsea                9\n",
       "Liverpool              7\n",
       "Watford                7\n",
       "Crystal Palace         7\n",
       "West Ham United        6\n",
       "Tottenham Hotspur      5\n",
       "AFC Bournemouth        5"
      ]
     },
     "execution_count": 63,
     "metadata": {},
     "output_type": "execute_result"
    }
   ],
   "source": [
    "# Then we group the number of 'inter' by name\n",
    "tab2 = pd.crosstab(dfgoal['name'],dfgoal['inter'])\n",
    "pd.DataFrame(tab2.sort_values(by = '81-90', ascending = False).head(10)['81-90'])"
   ]
  },
  {
   "cell_type": "code",
   "execution_count": 64,
   "metadata": {},
   "outputs": [],
   "source": [
    "# We group the number of inter group by player\n",
    "tab2 = pd.crosstab(dfgoal['playerId'],dfgoal['inter'])\n",
    "tab2 = tab2.reset_index()\n",
    "\n",
    "\n"
   ]
  },
  {
   "cell_type": "code",
   "execution_count": 65,
   "metadata": {},
   "outputs": [],
   "source": [
    "# we write a fonction that will, for each player, count in how many intervals he has scored\n",
    "listejoueur = []\n",
    "for index, row in tab2.iterrows():\n",
    "    nbr = 0\n",
    "    for k in range(1, len(tab2.columns)):\n",
    "        if row[tab2.columns[k]]> 0:\n",
    "            nbr = nbr+1\n",
    "    if nbr >= 8:\n",
    "        listejoueur.append(row.playerId)\n",
    "        \n",
    "            \n",
    "    "
   ]
  },
  {
   "cell_type": "code",
   "execution_count": 66,
   "metadata": {},
   "outputs": [],
   "source": [
    "## Then we plot the names of those players\n",
    "dfjoueur = pd.DataFrame(listejoueur, columns = ['wyId'])\n",
    "dfresponse = pd.merge(dfplayers, dfjoueur, on = 'wyId')\n"
   ]
  },
  {
   "cell_type": "code",
   "execution_count": 67,
   "metadata": {},
   "outputs": [
    {
     "data": {
      "text/plain": [
       "0              R. Lukaku\n",
       "1                H. Kane\n",
       "2            R. Sterling\n",
       "3          Gabriel Jesus\n",
       "4               J. Vardy\n",
       "5        Roberto Firmino\n",
       "6          Mohamed Salah\n",
       "7     \\u00c1lvaro Morata\n",
       "8     M. Arnautovi\\u0107\n",
       "9           A. Lacazette\n",
       "10               W. Zaha\n",
       "11             R. Mahrez\n",
       "Name: shortName, dtype: object"
      ]
     },
     "execution_count": 67,
     "metadata": {},
     "output_type": "execute_result"
    }
   ],
   "source": [
    "dfresponse.shortName"
   ]
  },
  {
   "cell_type": "code",
   "execution_count": null,
   "metadata": {},
   "outputs": [],
   "source": []
  },
  {
   "cell_type": "code",
   "execution_count": null,
   "metadata": {},
   "outputs": [],
   "source": []
  },
  {
   "cell_type": "code",
   "execution_count": null,
   "metadata": {},
   "outputs": [],
   "source": []
  },
  {
   "cell_type": "code",
   "execution_count": null,
   "metadata": {},
   "outputs": [],
   "source": []
  },
  {
   "cell_type": "code",
   "execution_count": null,
   "metadata": {},
   "outputs": [],
   "source": []
  },
  {
   "cell_type": "code",
   "execution_count": null,
   "metadata": {},
   "outputs": [],
   "source": []
  },
  {
   "cell_type": "code",
   "execution_count": null,
   "metadata": {},
   "outputs": [],
   "source": []
  },
  {
   "cell_type": "code",
   "execution_count": null,
   "metadata": {},
   "outputs": [],
   "source": []
  },
  {
   "cell_type": "code",
   "execution_count": null,
   "metadata": {},
   "outputs": [],
   "source": []
  }
 ],
 "metadata": {
  "kernelspec": {
   "display_name": "Python 3",
   "language": "python",
   "name": "python3"
  },
  "language_info": {
   "codemirror_mode": {
    "name": "ipython",
    "version": 3
   },
   "file_extension": ".py",
   "mimetype": "text/x-python",
   "name": "python",
   "nbconvert_exporter": "python",
   "pygments_lexer": "ipython3",
   "version": "3.7.3"
  }
 },
 "nbformat": 4,
 "nbformat_minor": 4
}
